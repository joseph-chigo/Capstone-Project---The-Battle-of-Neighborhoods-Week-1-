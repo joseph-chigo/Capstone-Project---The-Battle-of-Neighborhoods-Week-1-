{
    "nbformat_minor": 1, 
    "cells": [
        {
            "source": "<h1>The Battle of Neighborhoods (Week 1)<h1>", 
            "cell_type": "markdown", 
            "metadata": {
                "collapsed": true
            }
        }, 
        {
            "source": "<h1>Joseph C Khamis Part 1: Introduction and Data Sections<h1>", 
            "cell_type": "markdown", 
            "metadata": {}
        }, 
        {
            "source": "<h1>Coursera Capstone - REPORT CONTENT<br/><br/>\n1. Introduction Section<br><br> \n      Discussion of the business problem and the interested audience in this project.<br><br>\n2. Data Section<br><br>\n      Description of the data that will be used to solve the problem and the sources.<br><br>\n3. Methodology section <br><br>\n      Discussion and description of exploratory data analysis carried out,any inferential statistical testing performed,<br><br> and if any machine learnings were used establishing the strategy and purposes.<br><br>\n4. Results section<br><br>\n      Discussion of the results.<br><br>\n5. Discussion section<br><br>\n      Elaboration and discussion on any observations noted and any recommendations suggested based on the results.<br><br>\n6. Conclusion section \u2043 Report Conclusion.<h1>", 
            "cell_type": "markdown", 
            "metadata": {}
        }, 
        {
            "source": "<h1>1. Introduction Section: Discussion of the business problem and the audience who would be interested in this project.<h1>", 
            "cell_type": "markdown", 
            "metadata": {}
        }, 
        {
            "source": "<h2>Description of the Problem and Background <h2>", 
            "cell_type": "markdown", 
            "metadata": {}
        }, 
        {
            "source": "<h2>Scenario:<h2>", 
            "cell_type": "markdown", 
            "metadata": {}
        }, 
        {
            "source": "   I am a data scientist residing in Tanzania, Dar es salaam City Centre. I currently live within walking distance to Kariakoo market,  Gerezani BRT station, TRC Railway Station \n   and I enjoy many ammenities and venues in the area, such as various international cousine restaurants, cafes, food shops and entertainment.\n   I have been offered a great opportunity to work for a leader firm in Manhattan, NY.\n   I am very excited and I want to use this opportunity to practice my learnings in Coursera in order to answer relevant questions arisen.\n   The key question is : How can I find a convenient and enjoyable place similar to mine now in Tanzania? Certainly,\n   I can use available real estate apps and Google but the idea is to use and apply myself the learned tools during the course.\n   In order to make a comparison and evaluation of the rental options in Manhattan NY, I must set some basis, therefore the apartment in\n   Manhattan must meet the following demands:", 
            "cell_type": "markdown", 
            "metadata": {}
        }, 
        {
            "source": "- Apartment must be 2 or 3 bedrooms\n- Desired location is near a metro station in the Manhattan area and within 1.0 mile (1.6 km)\n   radius\n- Price of rent not exceed $7,000 per month\n- Top ammenities in the selected neighborhood shall be similar to current residence\n- Desirable to have venues such as coffee shops, restaurants , wine stores, gym and food shops\n- As a reference, I have included a map of venues near current residence in Tanzania.", 
            "cell_type": "markdown", 
            "metadata": {}
        }, 
        {
            "source": "<h2>Business Problem:<h2>", 
            "cell_type": "markdown", 
            "metadata": {}
        }, 
        {
            "source": "The challenge is to find a suitable apartment for rent in Manhattan NY that complies with the demands on location, price and venues. \nThe data required to resolve this challenge is described in the following section 2, below.", 
            "cell_type": "markdown", 
            "metadata": {}
        }, 
        {
            "source": "<h2>Interested Audience<h2>", 
            "cell_type": "markdown", 
            "metadata": {}
        }, 
        {
            "source": "I believe this is a relevant challenge with valid questions for anyone moving to other large city in\nUS, EU or Asia. The same methodology can be applied in accordance to demands as applicable.\nThis case is also applicable for anyone interested in exploring starting or locating a new business in\nany city. Lastly, it can also serve as a good practical exercise to develop Data Science skills.", 
            "cell_type": "markdown", 
            "metadata": {}
        }, 
        {
            "source": "<h1>2. Data Section:<h1>", 
            "cell_type": "markdown", 
            "metadata": {}
        }, 
        {
            "source": "<h2>Description of the data and its sources that will be used to solve the problem<h2>", 
            "cell_type": "markdown", 
            "metadata": {}
        }, 
        {
            "source": "I Currently reside in the neighborhood of in 'Gerezani', Dar es salaam City Centre in Tanzania. I use Foursquare to identify the venues\naround the area of residence which are then shown in the\nTanzania, Dar es salaam map shown in methodology and execution in section 3.0\n. It serves as a reference for comparison with the desired future\nlocation in Manhattan NY.", 
            "cell_type": "markdown", 
            "metadata": {}
        }, 
        {
            "source": "<h2>Description of the Data<h2>", 
            "cell_type": "markdown", 
            "metadata": {}
        }, 
        {
            "source": "The following data is required to answer the issues of the problem:\n\n- List of Boroughs and neighborhoods of Manhattan with their geodata (latitude and longitude)\n- List of Subway metro stations in Manhattan with their address location\n- List of apartments for rent in Manhattan area with their addresses and price\n- Preferably, a list of apartment for rent with additional information, such as price, address, area, number of beds, etc\n- Venues for each Manhattan neighborhood ( than can be clustered)\n- Venues for subway metro stations, as needed", 
            "cell_type": "markdown", 
            "metadata": {}
        }, 
        {
            "source": "<h2>2.2 Data Required to resolve the problem<h2>", 
            "cell_type": "markdown", 
            "metadata": {}
        }, 
        {
            "source": "In order to make a good choice of a similar apartment in Manhattan\nNY, the following data is required: List/Information on\nneighborhoods form Manhattan with their Geodata ( latitude and\nlongitude. List/Information about the subway metro stations in\nManhattan with geodata. Listed apartments for rent in Manhattan\narea with descriptions ( how many beds, price, location, address)\nVenues and Ammenities in the Manhattan neighborhoods (e.g. top 10) 2.3 sources and manipulation The list of Manhattan\nneighborhoods is worked out during Lab exercise during the\ncourse. A csv file was created which will be read in order to create a\ndataframe and its mapping. The csv file 'mh_neigh_data.csv' has\nthe following below data structure. The file will be directly read to\nthe Jupiter Notebook for convenience and space savings. The\nclustering of neighborhoods and mapping will be shown however.\nAn algorithm was used to determine the geodata from Nominatim .\nThe actual algorythm coding may be shown in 'markdown' mode\nbecasues it takes time to run. ", 
            "cell_type": "markdown", 
            "metadata": {}
        }, 
        {
            "source": "A list of Manhattan subway metro stops was complied in Numbers (Apple excel) and it was complemeted with wikipedia data ( https://en.wikipedia.org/wiki/List_of_New_York_City_Subway_stations_in_Manhattan) and information from NY Transit authority and Google maps (https://www.google.com/maps/search/manhattan+subway+metro+stations/@40.7837297,-74.1033043,11z/data=!3m1!4b1) for a final consolidated list of subway stops names and their address. The geolocation was obtained via an algorythm using Nominatim. Details will be shown in the execution of methodolody in section 3.0.", 
            "cell_type": "markdown", 
            "metadata": {}
        }, 
        {
            "source": "A list of places for rent was collected by web-browsing real estate companies in Manhattan : http://www.rentmanhattan.com/index.cfm?page=search&state=results https://www.nestpick.com/search?city=new-york&page=1&order=relevance&district=manhattan&gclid=CjwKCAiAjNjgBRAgEiwAGLlf2hkP3A-cPxjZYkURqQEswQK2jKQEpv_MvKcrIhRWRzNkc_r-fGi0lxoCA7cQAvD_BwE&type=apartment&display=list https://www.realtor.com/apartments/Manhattan_NY A csv file was compiled with the rental place that indicated: areas of Manhattan, address, number of beds, area and monthly rental price. The csv file \"nnnn.csv\" had the following below structure. An algorythm was used to create all the geodata using Nominatim, as shown in section 3.0. The actual algorythm coding may be shown in 'markdown' mode becasues it takes time to run. With the use of geolocator = Nominatim() , it was possible to determine the latitude and longiude for the subway metro locations as well as for the geodata for each rental place listed. The loop algorythms used are shown in the execution of data in section 3.0 \"Great_circle\" function from geolocator was used to calculate distances between two points , as in the case to calculate average rent price for units around each subway station and at 1.6 km radius. Foursquare is used to find the avenues at Manhattan neighborhoods in general and a cluster is created to later be able to search for the venues depending of the location shown.", 
            "cell_type": "markdown", 
            "metadata": {}
        }, 
        {
            "source": "<h2>2.3 How the data will be used to solve the problem<h2>", 
            "cell_type": "markdown", 
            "metadata": {}
        }, 
        {
            "source": "The data will be used as follows: \n- Use Foursquare and geopy data to\n  map top 10 venues for all Manhattan neighborhoods and clustered\n  in groups ( as per Course LAB) \n- Use foursquare and geopy data to\n  map the location of subway metro stations , separately and on top\n  of the above clustered map in order to be able to identify the venues\n  and ammenities near each metro station, or explore each subway\n  location separately. \n- Use Foursquare and geopy data to map the\n  location of rental places, in some form, linked to the subway\n  locations. \n- create a map that depicts, for instance, the average rental\n  price per square ft, around a radious of 1.0 mile (1.6 km) around\n  each subway station - or a similar metrics. I will be able to quickly\n  point to the popups to know the relative price per subway area.\n- Addresses from rental locations will be converted to geodata( lat,long) using Geopy-distance and Nominatim. \n- Data will be searched in open data sources if available, from real estate sites if open to\n  reading, libraries or other government agencies such as Metro New York MTA, etc.", 
            "cell_type": "markdown", 
            "metadata": {}
        }, 
        {
            "source": "<h3>The procesing of these DATA will allow to answer the key questions to make a decision:<h3>", 
            "cell_type": "markdown", 
            "metadata": {}
        }, 
        {
            "source": "- What is the cost of rent (per square ft) around a mile radius from each subway metro station?\n- What is the area of Manhattan with best rental pricing that meets criteria established?\n- What is the distance from work place ( Park Ave and 53 rd St) and the tentative future home?\n- What are the venues of the two best places to live? How the prices compare?\n- How venues distribute among Manhattan neighborhoods and around metro stations?\n- Are there tradeoffs between size and price and location?\n- Any other interesting statistical data findings of the real estate and overall data.", 
            "cell_type": "markdown", 
            "metadata": {}
        }, 
        {
            "execution_count": null, 
            "cell_type": "code", 
            "metadata": {}, 
            "outputs": [], 
            "source": ""
        }
    ], 
    "metadata": {
        "kernelspec": {
            "display_name": "Python 3.6", 
            "name": "python3", 
            "language": "python"
        }, 
        "language_info": {
            "mimetype": "text/x-python", 
            "nbconvert_exporter": "python", 
            "version": "3.6.8", 
            "name": "python", 
            "file_extension": ".py", 
            "pygments_lexer": "ipython3", 
            "codemirror_mode": {
                "version": 3, 
                "name": "ipython"
            }
        }
    }, 
    "nbformat": 4
}